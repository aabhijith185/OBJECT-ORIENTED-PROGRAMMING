{
 "cells": [
  {
   "cell_type": "markdown",
   "metadata": {},
   "source": [
    "# program to illustrate the class and object creation"
   ]
  },
  {
   "cell_type": "code",
   "execution_count": 3,
   "metadata": {},
   "outputs": [
    {
     "name": "stdout",
     "output_type": "stream",
     "text": [
      "This message is from the constructor method\n",
      "Recieve message using mobile\n",
      "Send message using mobile\n"
     ]
    }
   ],
   "source": [
    "class Mobile():\n",
    "    def __init__(self):#this is the constructor method\n",
    "        print(\"This message is from the constructor method\")\n",
    "    def recieve_message(self):#first method of the class Mobile\n",
    "        print(\"Recieve message using mobile\")\n",
    "    def send_message(self):#second method of the class Mobile\n",
    "        print(\"Send message using mobile\")\n",
    "def main():\n",
    "    nokia=Mobile()#nokia is the new object of the class created\n",
    "    nokia.recieve_message()#object_name.method_name()\n",
    "    nokia.send_message()\n",
    "if __name__==\"_main_\" :\n",
    "    main()\n",
    "main()\n",
    "        "
   ]
  },
  {
   "cell_type": "markdown",
   "metadata": {},
   "source": [
    "PROGRAM TO CALCULATE THE ARCLENGTH OF AN ANGLE"
   ]
  },
  {
   "cell_type": "code",
   "execution_count": 4,
   "metadata": {},
   "outputs": [
    {
     "name": "stdout",
     "output_type": "stream",
     "text": [
      "The length of the arc is11.780972450961725\n"
     ]
    }
   ],
   "source": [
    "import math\n",
    "class Arclength:\n",
    "    def __init__(self):#constructor method is created\n",
    "        self.radius=0#object_name.data_attribute name=value\n",
    "        self.angle=0#object_name.data_attribute name=value\n",
    "    def calc_arc_length(self):\n",
    "        arc_len=2*math.pi*self.radius*self.angle/360\n",
    "        print(\"The length of the arc is{}\".format(arc_len))\n",
    "arc1=Arclength()#an object arc1 is created\n",
    "arc1.radius=9#object_name.data_attribute name=value\n",
    "arc1.angle=75#object_name.data_attribute name=value\n",
    "arc1.calc_arc_length()#object_name.method_attribute name=value\n"
   ]
  },
  {
   "cell_type": "markdown",
   "metadata": {},
   "source": [
    "Program to illustrate creation of multiple objects of a class"
   ]
  },
  {
   "cell_type": "code",
   "execution_count": 14,
   "metadata": {},
   "outputs": [
    {
     "name": "stdout",
     "output_type": "stream",
     "text": [
      "Griffon vulture flies above the cloud\n",
      "Common crane flies above the cloud\n",
      "Emu is the national bird of australia\n"
     ]
    }
   ],
   "source": [
    "class Birds:\n",
    "    def __init__(self,birdname):\n",
    "        self.birdname=birdname\n",
    "    def flying_birds(self):\n",
    "        print(\"{} flies above the cloud\".format( self.birdname))\n",
    "    def non_flying_birds(self):\n",
    "        print(\"{} is the national bird of australia\".format( self.birdname))\n",
    "def main():\n",
    "    vulture=Birds(\"Griffon vulture\")#OBJECT VULTURE IS CREATED\n",
    "    crane =Birds(\"Common crane\")#OBJECT CRANE IS CREATED\n",
    "    emu=Birds(\"Emu\")#OBJECT EMU IS CREATED\n",
    "    vulture.flying_birds()\n",
    "    crane.flying_birds()\n",
    "    emu.non_flying_birds()\n",
    "if __name__ == \"__main__\":\n",
    "    main()\n",
    "    \n",
    " \n",
    "    "
   ]
  },
  {
   "cell_type": "markdown",
   "metadata": {},
   "source": [
    "Program to simulate a bankaccount with deposit money withrawal amount and show balance operation"
   ]
  },
  {
   "cell_type": "code",
   "execution_count": 3,
   "metadata": {},
   "outputs": [
    {
     "name": "stdout",
     "output_type": "stream",
     "text": [
      "Abhijthhas deposited an amountof4856rs./nThe currentbalance is4856 \n",
      "Abhijth's ACCOUNT HAS RS:4856 BALANCE.\n",
      "Abhijthhad withdrawn 1800rupees\n",
      "Abhijth's ACCOUNT HAS RS:3056 BALANCE.\n"
     ]
    }
   ],
   "source": [
    "class Bankaccount:\n",
    "    def __init__(self,name):\n",
    "        self.name=name\n",
    "        self.balance=0\n",
    "    def show_balance(self):\n",
    "        print(\"{}'s ACCOUNT HAS RS:{} BALANCE.\".format(self.name,self.balance))\n",
    "    def withdraw_money(self,amount):\n",
    "        if amount> self.balance:\n",
    "            print(\"You dont have sufficient balance\")\n",
    "        else:\n",
    "            self.balance-=amount\n",
    "            print(\"{}had withdrawn {}rupees\".format(self.name,amount))\n",
    "    def deposit_money(self,amount):\n",
    "        self.balance+=amount\n",
    "        print(\"{}has deposited an amountof{}rs.The currentbalance is{} \".format(self.name,amount,self.balance))\n",
    "def main():\n",
    "    savings_account=Bankaccount(\"Abhijth\")\n",
    "    savings_account.deposit_money(4856)\n",
    "    savings_account.show_balance()\n",
    "    savings_account.withdraw_money(1800)\n",
    "    savings_account.show_balance()\n",
    "if __name__ ==\"__main__\":  \n",
    "    main()"
   ]
  },
  {
   "cell_type": "markdown",
   "metadata": {},
   "source": [
    "Create  a cart that contains data attributes Apples and Oranges.Write a method to return appropriate messages if number of appples is greater than five or number of orange less than 10"
   ]
  },
  {
   "cell_type": "code",
   "execution_count": 11,
   "metadata": {},
   "outputs": [
    {
     "name": "stdout",
     "output_type": "stream",
     "text": [
      "Apple is in Insufficient Quantity\n",
      "Orange is in Sufficient Quantity\n"
     ]
    }
   ],
   "source": [
    "class Cart:\n",
    "    def __init__(self,apple,orange):\n",
    "        self.apples=apple\n",
    "        self.oranges =orange\n",
    "    def apple_quantity_check(self):\n",
    "        if self.apples>=5:\n",
    "            return \"Sufficient Quantity\"\n",
    "        else:\n",
    "            return \"Insufficient Quantity\"\n",
    "    def orange_quantity_check(self):\n",
    "        if self.oranges>=10:\n",
    "            return \"Sufficient Quantity\"\n",
    "        else:\n",
    "            return \"Insufficient Quantity\" \n",
    "def main():\n",
    "    fruits=Cart(4,11)\n",
    "    returned_apple_mssg=fruits.apple_quantity_check()\n",
    "    returned_orange_mssg=fruits.orange_quantity_check()\n",
    "    print(\"Apple is in {}\".format(returned_apple_mssg))\n",
    "    print(\"Orange is in {}\".format(returned_orange_mssg))\n",
    "    \n",
    "if __name__==\"__main__\":\n",
    "    main()\n",
    "        "
   ]
  },
  {
   "cell_type": "markdown",
   "metadata": {},
   "source": [
    "Program that demonstrates the use of default parameters in the methods"
   ]
  },
  {
   "cell_type": "code",
   "execution_count": 12,
   "metadata": {},
   "outputs": [
    {
     "name": "stdout",
     "output_type": "stream",
     "text": [
      "The dog breed isGerman sheperd\n",
      "The dog color isTan Black\n"
     ]
    }
   ],
   "source": [
    "class Dog:\n",
    "    def __init__(self,breed=\"German sheperd\",color='Tan Black'):\n",
    "        self.breed=breed\n",
    "        self.color=color\n",
    "    def dog_breed(self):\n",
    "        print(f\"The dog breed is{self.breed}\")\n",
    "    def dog_color(self):\n",
    "        print(f\"The dog color is{self.color}\")    \n",
    "def main():\n",
    "    Tony=Dog()\n",
    "    Tony.dog_breed()\n",
    "    Tony.dog_color()\n",
    "if __name__==\"__main__\":\n",
    "    main()"
   ]
  },
  {
   "cell_type": "markdown",
   "metadata": {},
   "source": [
    "use of object as an argument to the function call"
   ]
  },
  {
   "cell_type": "code",
   "execution_count": 13,
   "metadata": {},
   "outputs": [
    {
     "name": "stdout",
     "output_type": "stream",
     "text": [
      "The song isThe first time ever i saw your face\n",
      "The Artist isRobert Flack\n",
      "None\n"
     ]
    }
   ],
   "source": [
    "class Track:\n",
    "    def __init__(self,song,artist):\n",
    "        self.song=song\n",
    "        self.artist=artist\n",
    "def print_track_info(vocalist):#since we are passing object as an argument we can acces all th data attributes associated with that object\n",
    "    print(f\"The song is{vocalist.song}\")\n",
    "    print(f\"The Artist is{vocalist.artist}\")\n",
    "singer=Track(\"The first time ever i saw your face\",\"Robert Flack\")    \n",
    "print(print_track_info(singer))    "
   ]
  },
  {
   "cell_type": "markdown",
   "metadata": {},
   "source": [
    "Program to check whether three points are collinear"
   ]
  },
  {
   "cell_type": "code",
   "execution_count": 22,
   "metadata": {},
   "outputs": [
    {
     "name": "stdout",
     "output_type": "stream",
     "text": [
      "collinear\n"
     ]
    }
   ],
   "source": [
    "class Collinear:\n",
    "    def __init__(self,x,y):\n",
    "        self.x=x\n",
    "        self.y=y\n",
    "    def check_for_colliniarity(self,point2,point3):\n",
    "        if ((point3.x-point2.x)*(point2.y-self.y))==((point3.y-point2.y)*(point2.x-self.x)):\n",
    "            print(\"collinear\")\n",
    "        else:\n",
    "            print(\"Not collinear\")\n",
    "def main():\n",
    "    point1=Collinear(1,1)\n",
    "    point2=Collinear(2,2)\n",
    "    point3=Collinear(4,4)\n",
    "    point1.check_for_colliniarity(point2,point3)\n",
    "if __name__==\"__main__\":\n",
    "    main()"
   ]
  },
  {
   "cell_type": "markdown",
   "metadata": {},
   "source": [
    "Given the center of a circle and its radius write a program to find whether a point lies inside the circle or outside"
   ]
  },
  {
   "cell_type": "code",
   "execution_count": 31,
   "metadata": {},
   "outputs": [
    {
     "name": "stdout",
     "output_type": "stream",
     "text": [
      "The point is outside the circle\n"
     ]
    }
   ],
   "source": [
    "import math\n",
    "class Circle:\n",
    "    def __init__(self,x,y,xcentre,ycentre,radius):\n",
    "        self.x=x\n",
    "        self.y=y\n",
    "        self.xc=xcentre\n",
    "        self.yc=ycentre\n",
    "        self.radius=radius\n",
    "    def check_circle(self,x,y,xcentre,ycentre):\n",
    "        distance=math.sqrt((self.x-self.xc)**2+(self.y-self.yc)**2)\n",
    "        if distance<=self.radius:\n",
    "            print(\"The point is inside the circle\")\n",
    "        else:\n",
    "            print(\"The point is outside the circle\")\n",
    "def main():\n",
    "    point=Circle(4,5,0,0,4)\n",
    "    #point.x,point.y=1,7\n",
    "    #point.xc,point.yc=0,0\n",
    "    #point.radius=3\n",
    "    point.check_circle(4,5,0,0)    \n",
    "if __name__==\"__main__\":\n",
    "    main()    "
   ]
  },
  {
   "cell_type": "markdown",
   "metadata": {},
   "source": [
    "Program to calculate the endtime of an opera when starttime and duration are given"
   ]
  },
  {
   "cell_type": "code",
   "execution_count": 32,
   "metadata": {},
   "outputs": [
    {
     "name": "stdout",
     "output_type": "stream",
     "text": [
      "The opera ends at23:30:25\n"
     ]
    }
   ],
   "source": [
    "class Time:\n",
    "    def __init__(self,hours,minutes,seconds):\n",
    "        self.hrs=hours\n",
    "        self.min=minutes\n",
    "        self.sec=seconds\n",
    "    def add_time(self,duration):\n",
    "        opera_hours=self.hrs+duration.hrs\n",
    "        opera_minutes=self.min+duration.min\n",
    "        opera_seconds=self.sec+duration.sec\n",
    "        while opera_seconds>=60:\n",
    "            opera_seconds-=60\n",
    "            opera_minutes+=1\n",
    "        while opera_minutes>=60:\n",
    "            opera_minutes-=60\n",
    "            opera_hours+=1   \n",
    "        print(f\"The opera ends at{opera_hours}:{opera_minutes}:{opera_seconds}\")    \n",
    "def main():\n",
    "    operastart=Time(20,0,0)\n",
    "    operaends=Time(3,30,25)\n",
    "    operastart.add_time(operaends)\n",
    "if __name__==\"__main__\":\n",
    "    main()     "
   ]
  },
  {
   "cell_type": "markdown",
   "metadata": {},
   "source": [
    "Program to demonstrate the difference btw abstraction and encapsulation"
   ]
  },
  {
   "cell_type": "code",
   "execution_count": 3,
   "metadata": {},
   "outputs": [
    {
     "data": {
      "text/plain": [
       "7"
      ]
     },
     "execution_count": 3,
     "metadata": {},
     "output_type": "execute_result"
    }
   ],
   "source": [
    "class Foo:\n",
    "    def __init__(self,a,b):\n",
    "        self.a=a\n",
    "        self.b=b\n",
    "    def add(self):\n",
    "        return self.a+self.b\n",
    "foo_object=Foo(3,4)#here the internal representation of object of foo class is hidden outside the class(encapsulation)\n",
    "foo_object.add()#the method inside the class can only be used by the objects\n",
    "        "
   ]
  },
  {
   "cell_type": "markdown",
   "metadata": {},
   "source": [
    "Program to find in which quadrant a point lies "
   ]
  },
  {
   "cell_type": "code",
   "execution_count": 9,
   "metadata": {},
   "outputs": [
    {
     "name": "stdout",
     "output_type": "stream",
     "text": [
      "The point lies in the origin\n"
     ]
    }
   ],
   "source": [
    "class Point:\n",
    "    def __init__(self,x,y):\n",
    "        self.x=x\n",
    "        self.y=y\n",
    "    def quadrant(self):\n",
    "        if self.x>0 and self.y>0:\n",
    "            print(\"The point lies in the first quadrant\")\n",
    "        elif self.x<0 and self.y>0:\n",
    "            print(\"The point lies in the second quadrant\")\n",
    "        elif self.x<0 and self.y<0:\n",
    "            print(\"The point lies in the third quadrant\")\n",
    "        elif self.x>0 and self.y<0:\n",
    "            print(\"The point lies in the fourth quadrant\")\n",
    "        else:\n",
    "            print(\"The point lies in the origin\")\n",
    "def main():\n",
    "    point=Point(0,0)\n",
    "    point.quadrant()\n",
    "if __name__==\"__main__\":\n",
    "    main()         \n",
    "        \n",
    "            "
   ]
  },
  {
   "cell_type": "markdown",
   "metadata": {},
   "source": [
    "# INHERITANCE"
   ]
  },
  {
   "cell_type": "markdown",
   "metadata": {},
   "source": [
    "Relation between base and derived class without using __init__ method"
   ]
  },
  {
   "cell_type": "code",
   "execution_count": 2,
   "metadata": {},
   "outputs": [
    {
     "name": "stdout",
     "output_type": "stream",
     "text": [
      "Germany has been placed in UEFA FIFA division\n",
      "The Germany national team had won 5 times.\n"
     ]
    }
   ],
   "source": [
    "class Football:\n",
    "    def __init__(self,country,division,no_of_times):\n",
    "        self.country=country\n",
    "        self.division=division\n",
    "        self.no_of_times=no_of_times\n",
    "    def Fifa(self):\n",
    "        print(\"{} has been placed in {} FIFA division\".format(self.country,self.division))\n",
    "class Worldchampionship(Football):#The derived class inherits from the base class and uses the methods and variables in the base class\n",
    "    def world_championship(self):\n",
    "        print(\"The {} national team had won {} times.\".format(self.country,self.no_of_times))\n",
    "def main():\n",
    "    germany=Worldchampionship(\"Germany\",\"UEFA\",5)\n",
    "    germany.Fifa()\n",
    "    germany.world_championship()\n",
    "if __name__==\"__main__\":\n",
    "    main()         \n",
    "            \n",
    "        \n",
    "        "
   ]
  },
  {
   "cell_type": "markdown",
   "metadata": {},
   "source": [
    "Create a library having books belonging to different departments"
   ]
  },
  {
   "cell_type": "code",
   "execution_count": 6,
   "metadata": {},
   "outputs": [
    {
     "name": "stdout",
     "output_type": "stream",
     "text": [
      "Title:newtons law\n",
      "Idno:342343\n",
      "Section:physics\n"
     ]
    }
   ],
   "source": [
    "class Library:\n",
    "    def __init__(self,title,idno,section):\n",
    "        self.title=title\n",
    "        self.idno=idno\n",
    "        self.section=section\n",
    "class Physics(Library):\n",
    "    def showdetails(self):\n",
    "        print(\"Title:{}\".format(self.title))\n",
    "        print(\"Idno:{}\".format(self.idno))\n",
    "        print(\"Section:{}\".format(self.section))\n",
    "class Chemistry(Library):\n",
    "     def showdetails(self):\n",
    "        print(\"Title:{}\".format(self.title))\n",
    "        print(\"Idno:{}\".format(self.idno))\n",
    "        print(\"Section:{}\".format(self.section))\n",
    "    \n",
    "class Electronics(Library):\n",
    "     def showdetails(self):\n",
    "        print(\"Title:{}\".format(self.title))\n",
    "        print(\"Idno:{}\".format(self.idno))\n",
    "        print(\"Section:{}\".format(self.section))\n",
    "    \n",
    "book=Physics(\"newtons law\",342343,\"physics\")    \n",
    "book.showdetails()\n",
    "    \n",
    "    \n",
    "    "
   ]
  },
  {
   "cell_type": "markdown",
   "metadata": {},
   "source": [
    "# OVERRIDING"
   ]
  },
  {
   "cell_type": "code",
   "execution_count": 8,
   "metadata": {},
   "outputs": [
    {
     "name": "stdout",
     "output_type": "stream",
     "text": [
      "Derived class\n",
      "The Prince of Fire book is authored by Daniel Silva and published by Berkly\n",
      "THE AUTHOR OF Prince of Fire IS Daniel Silva\n",
      "---------------------------\n",
      "Base class\n",
      "THE AUTHOR OF Oneshot IS Leechild\n"
     ]
    }
   ],
   "source": [
    "class Book:\n",
    "    def __init__(self,author,title):\n",
    "        self.author=author\n",
    "        self.title=title\n",
    "    def book_info(self):\n",
    "        print(\"THE AUTHOR OF {} IS {}\".format(self.title,self.author))\n",
    "class Fiction(Book):\n",
    "    def __init__(self,author,title,publisher):\n",
    "        super().__init__(author,title)\n",
    "        self.publisher=publisher\n",
    "    def book_info(self):#this method in derived class will override the same method in base class\n",
    "        print(\"The {} book is authored by {} and published by {}\".format(self.title,self.author,self.publisher))\n",
    "    def invoke_base_class_method(self):\n",
    "        super().book_info()\n",
    "def main():\n",
    "    print(\"Derived class\")\n",
    "    silva_book=Fiction(\"Daniel Silva\",\"Prince of Fire\",\"Berkly\")\n",
    "    silva_book.book_info()\n",
    "    silva_book.invoke_base_class_method()\n",
    "    print(\"---------------------------\")\n",
    "    print(\"Base class\")\n",
    "    reacher_book=Book(\"Leechild\",\"Oneshot\")\n",
    "    reacher_book.book_info()\n",
    "if __name__==\"__main__\":\n",
    "    main()         \n",
    "                "
   ]
  },
  {
   "cell_type": "markdown",
   "metadata": {},
   "source": [
    "# MULTIPLE INHERITANCE"
   ]
  },
  {
   "cell_type": "markdown",
   "metadata": {},
   "source": [
    "# multiple inheritance with method method overrriding\n",
    "class Pet:\n",
    "    def __init__(self,breed):\n",
    "        self.breed=breed\n",
    "    def about(self):\n",
    "        print(\"This is {} breed\".format(self.breed))\n",
    "class Insurance:\n",
    "    def __init__(self,amount):\n",
    "        self.amount=amount\n",
    "    def about(self):\n",
    "        print(\"It is insured for an amount of {}\".format(self.amount))\n",
    "class Cat(Pet,Insurance):\n",
    "    def __init__(self,weight,breed,amount):\n",
    "        self.weight=weight\n",
    "        Pet.__init__(self,breed)\n",
    "        Insurance.__init__(self,amount)\n",
    "    def get_weight(self):\n",
    "        print(\"{} have weight {} pounds\".format(self.breed,self.weight))\n",
    "def main():\n",
    "    cat_obj=Cat(15,\"Ragdoll\",\"$100\")\n",
    "    cat_obj.about()# here we follow method resolution order for overriding\n",
    "    cat_obj.get_weight()\n",
    "if __name__ ==\"__main__\":\n",
    "    main()\n",
    "        \n",
    "        "
   ]
  },
  {
   "cell_type": "markdown",
   "metadata": {},
   "source": [
    "# POLYMORPHISM"
   ]
  },
  {
   "cell_type": "code",
   "execution_count": 2,
   "metadata": {},
   "outputs": [
    {
     "name": "stdout",
     "output_type": "stream",
     "text": [
      "Vehice Model Name Is Ducati-Scrambler\n",
      "Vehice Model Name Is Volkswagon-Beetle\n",
      "Expected method not present in object\n"
     ]
    }
   ],
   "source": [
    "class Vehicle:\n",
    "    def __init__(self,model):\n",
    "        self.model=model\n",
    "    def vehicle_model(self):\n",
    "        print(\"Vehice Model Name Is {}\".format(self.model))\n",
    "class Bike(Vehicle):\n",
    "    def vehicle_model(self):\n",
    "        print(\"Vehice Model Name Is {}\".format(self.model))\n",
    "class Car(Vehicle):\n",
    "    def vehicle_model(self):\n",
    "        print(\"Vehice Model Name Is {}\".format(self.model))\n",
    "class Aeroplane:\n",
    "    pass\n",
    "def vehicle_info(vehicle_obj):\n",
    "    vehicle_obj.vehicle_model()\n",
    "def main():\n",
    "    ducati=Bike(\"Ducati-Scrambler\")\n",
    "    beetle=Car(\"Volkswagon-Beetle\")\n",
    "    boeng=Aeroplane()\n",
    "    for each_obj in [ducati,beetle,boeng]:\n",
    "        try:\n",
    "            vehicle_info(each_obj)\n",
    "        except AttributeError:\n",
    "            print(\"Expected method not present in object\")\n",
    "if __name__ ==\"__main__\":\n",
    "    main()\n",
    "            "
   ]
  },
  {
   "cell_type": "markdown",
   "metadata": {},
   "source": [
    "PROGRAM TO CALCULATE THE AREA AND PERIMETER OF DIFFERENT SHAPES USING POLYMORPHISM"
   ]
  },
  {
   "cell_type": "code",
   "execution_count": 11,
   "metadata": {},
   "outputs": [
    {
     "name": "stdout",
     "output_type": "stream",
     "text": [
      "The area of rectangle is 200\n",
      "The perimeter of rectangle is 60\n",
      "The area of Circle is 314.1592653589793\n",
      "The perimeter of Circle is 62.83185307179586\n"
     ]
    }
   ],
   "source": [
    "import math\n",
    "class Shape:\n",
    "    def area(self):\n",
    "        pass\n",
    "    def perimeter(self):\n",
    "        pass\n",
    "class Rectangle(Shape):\n",
    "    def __init__(self,width,height):\n",
    "        self.width=width\n",
    "        self.height=height\n",
    "    def area(self):\n",
    "        print(\"The area of rectangle is {}\".format(self.width*self.height))\n",
    "    def perimeter(self):\n",
    "        print(\"The perimeter of rectangle is {}\".format(2*(self.width+self.height)))     \n",
    "class Circle(Shape):\n",
    "    def __init__(self,radius):\n",
    "        self.radius=radius\n",
    "    def area(self):\n",
    "        area=math.pi*self.radius**2\n",
    "        print(\"The area of Circle is {}\".format(area))    \n",
    "    def perimeter(self):\n",
    "        perim=2*math.pi*self.radius\n",
    "        print(\"The perimeter of Circle is {}\".format(perim))\n",
    "def shape_type(shape_obj):\n",
    "    shape_obj.area()\n",
    "    shape_obj.perimeter()\n",
    "def main():\n",
    "    rectangle_obj=Rectangle(10,20)\n",
    "    circle=Circle(10)\n",
    "    for each_obj in [rectangle_obj,circle]:\n",
    "        shape_type(each_obj)\n",
    "if __name__ ==\"__main__\":\n",
    "    main()\n",
    "\n",
    "        \n",
    "              "
   ]
  },
  {
   "cell_type": "markdown",
   "metadata": {},
   "source": [
    "PROGRAM TO ADD TWO COMPLEX NUMBERS"
   ]
  },
  {
   "cell_type": "code",
   "execution_count": null,
   "metadata": {},
   "outputs": [],
   "source": []
  },
  {
   "cell_type": "code",
   "execution_count": null,
   "metadata": {},
   "outputs": [],
   "source": []
  }
 ],
 "metadata": {
  "kernelspec": {
   "display_name": "Python 3",
   "language": "python",
   "name": "python3"
  },
  "language_info": {
   "codemirror_mode": {
    "name": "ipython",
    "version": 3
   },
   "file_extension": ".py",
   "mimetype": "text/x-python",
   "name": "python",
   "nbconvert_exporter": "python",
   "pygments_lexer": "ipython3",
   "version": "3.7.6"
  }
 },
 "nbformat": 4,
 "nbformat_minor": 4
}
